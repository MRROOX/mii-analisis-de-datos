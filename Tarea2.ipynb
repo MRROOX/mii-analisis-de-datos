{
  "nbformat": 4,
  "nbformat_minor": 0,
  "metadata": {
    "colab": {
      "name": "Tarea2.ipynb",
      "version": "0.3.2",
      "provenance": [],
      "collapsed_sections": [],
      "include_colab_link": true
    },
    "kernelspec": {
      "name": "python3",
      "display_name": "Python 3"
    }
  },
  "cells": [
    {
      "cell_type": "markdown",
      "metadata": {
        "id": "view-in-github",
        "colab_type": "text"
      },
      "source": [
        "<a href=\"https://colab.research.google.com/github/MRROOX/mii-analisis-de-datos/blob/master/Tarea2.ipynb\" target=\"_parent\"><img src=\"https://colab.research.google.com/assets/colab-badge.svg\" alt=\"Open In Colab\"/></a>"
      ]
    },
    {
      "cell_type": "markdown",
      "metadata": {
        "id": "527tpDan1m2w",
        "colab_type": "text"
      },
      "source": [
        "# Tarea 2 - Clasificación Módulo Análisis de Datos, EMI2016-1, 1° Semestre 2019\n",
        "\n",
        "**Alumno: Felipe Quezada Gajardo** \n",
        "\n",
        "Para la tarea se deben utilizar las siguientes bases de datos:\n",
        "\n",
        "* Iris https://archive.ics.uci.edu/ml/datasets/Iris\n",
        "* MNIST http://yann.lecun.com/exdb/mnist/\n",
        "\n",
        "\n",
        "Se recomienda hacer uso de las librerias de python indicadas en la conferencia (tener en cuentas al respecto\n",
        "las funciones. fit, predict y predict proba asociadas). También es válido (pero más trabajoso) implementar\n",
        "directamente la optimización asociada a los modelos, o utilizar librerı́as de R.\n",
        "Las actividades solicitadas (junto con una descripción metodológica) son las siguientes:\n",
        "\n",
        "\n",
        "**1. Entrenar los modelos estudiados para la base de datos Iris involucrando todas las variables.**\n",
        "\n",
        "* Resolver los tres modelos presentados (Perceptron, Adaline y Regresión logı́stica) para la base de\n",
        "datos Iris incluyendo las cuatro variables explicativas (sepal length, sepal width, petal length y petal\n",
        "width) y dos de las tres categoı́as de flores (se reduce a 100 datos con 4 caracterı́sticas y dos clases).\n",
        "\n",
        "\n",
        "\n",
        "**2. Estudiar la base de datos MINST y entrenar dos modelos (Adaline y Regresión logı́stica) para dos pro-\n",
        "blemas de clasificación binaria (por ejemplo 3 vs. 3, pares vs no pares, etc.)**\n",
        "\n",
        "* Tomar los datos de MNIST y preparar dos problemas de clasificación binarios, lo cual implica generar\n",
        "la clase asociada a todas las observaciones (para cada problemas deben quedar 60.000 datos con 784\n",
        "caracterı́sticas y dos clases)\n",
        "* Entrenar los dos modelos mencionados anteriormente para los problemas de clasificación binaria\n",
        "propuestos.\n",
        "\n",
        "**3. En ambos casos (1 y 2) estudiar el número de aciertos del modelo en los datos de entrenamiento y probar\n",
        "con distintos valores de corte.**\n",
        "* Para todos los modelos entrenados en los puntos 1 y 2 calcular el porcentaje de aciertos en la\n",
        "clasificación de todos los datos de entrenamiento.\n",
        "* Para los modelos entrenados de tipo Adaline y Regresión Logı́stica preparar predictores con tres\n",
        "valores de corte distintos, y comparar el porcentaje de aciertos de los predictores.\n",
        "\n",
        "**4. Entrenar los modelos en los ejemplos anteriores con distintos valores del learning rate (entre 0.0001 y\n",
        "1000) y documentar diferencias observadas.**\n",
        "\n",
        "* Entrenar los modelos solo de tipo Adaline (SGDRegressor) con varios valores del learning rate y\n",
        "documentar las diferencias observadas en cuanto a la ejecución del entrenamiento y la calidad del\n",
        "predictor que se genera (por ejemplo mirando el porcentaje de aciertos).\n"
      ]
    },
    {
      "cell_type": "code",
      "metadata": {
        "id": "kTejJ7UbYTt_",
        "colab_type": "code",
        "colab": {
          "base_uri": "https://localhost:8080/",
          "height": 1000
        },
        "outputId": "c1664bc0-3067-460e-80be-31a8cda0566a"
      },
      "source": [
        "#1. Entrenar los modelos estudiados para la base de datos Iris involucrando todas las variables.\n",
        "# Cargando los datos Iris\n",
        "\n",
        "import pandas as pd\n",
        "import numpy as np\n",
        "\n",
        "df = pd.read_csv('https://archive.ics.uci.edu/ml/'\n",
        "                 'machine-learning-databases/iris/iris.data',\n",
        "                 header=None)\n",
        "\n",
        "df.columns = ['sepal length', 'sepal width','petal length', 'petal width', 'class']\n",
        "\n",
        "df.head()\n",
        "\n",
        "# Separabilidad ploteo de las clases Setosa y Versicolor en las dos variables legth\n",
        "import matplotlib.pyplot as plt\n",
        "\n",
        "X_setosa=df.loc[df['class']=='Iris-setosa'].loc[:,['sepal length', 'petal length']].values\n",
        "X_versicolor=df.loc[df['class']=='Iris-versicolor'].loc[:,['sepal length', 'petal length']].values\n",
        "X_virginica=df.loc[df['class']=='Iris-virginica'].loc[:,['sepal length', 'petal length']].values\n",
        "\n",
        "\n",
        "plt.scatter(X_setosa[:,0],X_setosa[:,1], color='red',marker='o', label='setosa')\n",
        "plt.scatter(X_versicolor[:,0],X_versicolor[:,1], color='blue',marker='x', label='versicolor')\n",
        "plt.xlabel('sepal length [cm]')\n",
        "plt.ylabel('petal length [cm]')\n",
        "plt.legend(loc='upper left')\n",
        "plt.show()\n",
        "\n",
        "# Perceptron para clases Setosa y Versicolor \n",
        "\n",
        "\n",
        "df_setosa_versicolor=df.loc[df['class'].isin(['Iris-setosa','Iris-versicolor'])]\n",
        "X_setosa_versicolor=df_setosa_versicolor.loc[:,['sepal length', 'petal length']].values\n",
        "y_setosa_versicolor=np.where(df_setosa_versicolor.loc[:,['class']].values== 'Iris-setosa',-1,1)\n",
        "\n",
        "from sklearn.linear_model import Perceptron\n",
        "# Se aplica Perceptron #\n",
        "ppn=Perceptron(max_iter=40,eta0=0.1,random_state=1)\n",
        "ppn.fit(X_setosa_versicolor,y_setosa_versicolor)\n",
        "\n",
        "from matplotlib.colors import ListedColormap\n",
        "\n",
        "\n",
        "def plot_decision_regions(X,y, classifier, markers=['o','x'],colors=['red','blue'],predict_proba=False,threshold=0.0,resolution=0.02):\n",
        "    \n",
        "    cmap = ListedColormap(colors[:len(np.unique(y))])\n",
        "    \n",
        "    x1_min, x1_max = X[:,0].min() -0.5 ,  X[:,0].max() +0.5\n",
        "    x2_min, x2_max = X[:,1].min() -0.5,  X[:,1].max() +0.5\n",
        "    \n",
        "    xx1, xx2 =np.meshgrid(np.arange(x1_min,x1_max,resolution),\n",
        "                          np.arange(x2_min,x2_max,resolution))\n",
        "    if predict_proba:\n",
        "        Z= classifier.predict_proba(np.array([xx1.ravel(), xx2.ravel()]).T)[:,1]\n",
        "        Z=np.where(Z>=threshold,1,0)\n",
        "    else:\n",
        "        Z= classifier.predict(np.array([xx1.ravel(), xx2.ravel()]).T)\n",
        "        Z=np.where(Z>=threshold,1,-1)\n",
        "    \n",
        "    Z=Z.reshape(xx1.shape)\n",
        "    plt.contourf(xx1,xx2,Z,alpha=0.3,cmap=cmap)\n",
        "    plt.xlim(xx1.min(),xx1.max())\n",
        "    plt.ylim(xx2.min(),xx2.max())\n",
        "    \n",
        "    for idx, cl in enumerate(np.unique(y)):\n",
        "        plt.scatter(x=X[y==cl,0],\n",
        "                    y=X[y==cl,1],\n",
        "                    alpha=0.8,\n",
        "                    c=colors[idx],\n",
        "                    marker=markers[idx],\n",
        "                    label=cl,\n",
        "                    edgecolor='black')\n",
        "        \n",
        "plot_decision_regions(X_setosa_versicolor,y_setosa_versicolor.ravel(), classifier=ppn)\n",
        "plt.xlabel('sepal length [cm]')\n",
        "plt.ylabel('petal length [cm]')\n",
        "plt.legend(loc='upper left')\n",
        "plt.show()\n",
        "\n",
        "# Adaline - Linear Regressor para clases Setosa y Versicolor \n",
        "\n",
        "from sklearn import linear_model\n",
        "\n",
        "X_set_ver_std=np.copy(X_setosa_versicolor)\n",
        "\n",
        "X_set_ver_std[:,0]=(X_setosa_versicolor[:,0]-X_setosa_versicolor[:,0].mean())/X_setosa_versicolor[:,0].std()\n",
        "X_set_ver_std[:,1]=(X_setosa_versicolor[:,1]-X_setosa_versicolor[:,1].mean())/X_setosa_versicolor[:,1].std()\n",
        "\n",
        "\n",
        "ada = linear_model.SGDRegressor(max_iter=1000, tol=1e-3)\n",
        "ada.fit(X_set_ver_std,y_setosa_versicolor)\n",
        "\n",
        "plot_decision_regions(X_set_ver_std,y_setosa_versicolor.ravel(), classifier=ada,predict_proba=False,threshold=0.0)\n",
        "plt.title('Adaline - Linear Regression $\\sigma=0.0$')\n",
        "plt.xlabel('sepal length [standarized]')\n",
        "plt.ylabel('petal length [standarized]')\n",
        "plt.legend(loc='upper left')\n",
        "plt.tight_layout()\n",
        "plt.show()\n",
        "\n",
        "# Logistic Regression para clases Setosa y Versicolor\n",
        "\n",
        "y_setosa_versicolor=np.where(df_setosa_versicolor.loc[:,['class']].values== 'Iris-setosa',0,1)\n",
        "\n",
        "from sklearn.linear_model import LogisticRegression\n",
        "# Se aplica Logictic Regression\n",
        "log_reg = LogisticRegression()\n",
        "log_reg.fit(X_set_ver_std, y_setosa_versicolor)\n",
        "\n",
        "plot_decision_regions(X_set_ver_std, y_setosa_versicolor.ravel(), classifier=log_reg,markers=['o','x'],colors=['red','blue'],predict_proba=True,threshold=0.5)\n",
        "plt.title('Logistic Regression $\\sigma=0.5$')\n",
        "plt.xlabel('sepal length [standarized]')\n",
        "plt.ylabel('petal length [standarized]')\n",
        "plt.legend(loc='upper left')\n",
        "plt.tight_layout()\n",
        "plt.show()"
      ],
      "execution_count": 2,
      "outputs": [
        {
          "output_type": "display_data",
          "data": {
            "image/png": "[encoded data removed]",
            "text/plain": [
              "<Figure size 432x288 with 1 Axes>"
            ]
          },
          "metadata": {
            "tags": []
          }
        },
        {
          "output_type": "stream",
          "text": [
            "/usr/local/lib/python3.6/dist-packages/sklearn/utils/validation.py:724: DataConversionWarning: A column-vector y was passed when a 1d array was expected. Please change the shape of y to (n_samples, ), for example using ravel().\n",
            "  y = column_or_1d(y, warn=True)\n"
          ],
          "name": "stderr"
        },
        {
          "output_type": "display_data",
          "data": {
            "image/png": "[encoded data removed]",
            "text/plain": [
              "<Figure size 432x288 with 1 Axes>"
            ]
          },
          "metadata": {
            "tags": []
          }
        },
        {
          "output_type": "stream",
          "text": [
            "/usr/local/lib/python3.6/dist-packages/sklearn/utils/validation.py:724: DataConversionWarning: A column-vector y was passed when a 1d array was expected. Please change the shape of y to (n_samples, ), for example using ravel().\n",
            "  y = column_or_1d(y, warn=True)\n"
          ],
          "name": "stderr"
        },
        {
          "output_type": "display_data",
          "data": {
            "image/png": "[encoded data removed]",
            "text/plain": [
              "<Figure size 432x288 with 1 Axes>"
            ]
          },
          "metadata": {
            "tags": []
          }
        },
        {
          "output_type": "stream",
          "text": [
            "/usr/local/lib/python3.6/dist-packages/sklearn/linear_model/logistic.py:432: FutureWarning: Default solver will be changed to 'lbfgs' in 0.22. Specify a solver to silence this warning.\n",
            "  FutureWarning)\n",
            "/usr/local/lib/python3.6/dist-packages/sklearn/utils/validation.py:724: DataConversionWarning: A column-vector y was passed when a 1d array was expected. Please change the shape of y to (n_samples, ), for example using ravel().\n",
            "  y = column_or_1d(y, warn=True)\n"
          ],
          "name": "stderr"
        },
        {
          "output_type": "display_data",
          "data": {
            "image/png": "[encoded data removed]",
            "text/plain": [
              "<Figure size 432x288 with 1 Axes>"
            ]
          },
          "metadata": {
            "tags": []
          }
        }
      ]
    },
    {
      "cell_type": "code",
      "metadata": {
        "id": "MGeoLTTJhEdP",
        "colab_type": "code",
        "outputId": "75dd7cef-9939-4098-a258-d07466d44486",
        "colab": {
          "base_uri": "https://localhost:8080/",
          "height": 765
        }
      },
      "source": [
        "#2. Estudiar la base de datos MINST y entrenar dos modelos (Adaline y Regresión logı́stica) para dos pro- blemas de clasificación binaria (por ejemplo 3 vs. 3, pares vs no pares, etc.)\n",
        "\n",
        "#Tomar los datos de MNIST y preparar dos problemas de clasificación binarios, lo cual implica generar la clase asociada a todas las observaciones (para cada problemas deben quedar 60.000 datos con 784 caracterı́sticas y dos clases)\n",
        "#Entrenar los dos modelos mencionados anteriormente para los problemas de clasificación binaria propuestos.\n",
        "\n",
        "#Descargando MNIST Dataset\n",
        "\n",
        "!wget -O train-images-idx3-ubyte.gz http://yann.lecun.com/exdb/mnist/train-images-idx3-ubyte.gz\n",
        "\n",
        "!wget -O train-labels-idx1-ubyte.gz http://yann.lecun.com/exdb/mnist/train-labels-idx1-ubyte.gz\n",
        "  \n",
        "!wget -O t10k-images-idx3-ubyte.gz http://yann.lecun.com/exdb/mnist/t10k-images-idx3-ubyte.gz\n",
        "  \n",
        "!wget -O t10k-labels-idx1-ubyte.gz http://yann.lecun.com/exdb/mnist/t10k-labels-idx1-ubyte.gz\n",
        "\n",
        "#Descomprimiendo DATASETs\n",
        "\n",
        "#!info gzip\n",
        "!gzip -d *.gz\n",
        "  "
      ],
      "execution_count": 3,
      "outputs": [
        {
          "output_type": "stream",
          "text": [
            "--2019-07-13 05:26:01--  http://yann.lecun.com/exdb/mnist/train-images-idx3-ubyte.gz\n",
            "Resolving yann.lecun.com (yann.lecun.com)... 216.165.22.6\n",
            "Connecting to yann.lecun.com (yann.lecun.com)|216.165.22.6|:80... connected.\n",
            "HTTP request sent, awaiting response... 200 OK\n",
            "Length: 9912422 (9.5M) [application/x-gzip]\n",
            "Saving to: ‘train-images-idx3-ubyte.gz’\n",
            "\n",
            "train-images-idx3-u 100%[===================>]   9.45M  11.8MB/s    in 0.8s    \n",
            "\n",
            "2019-07-13 05:26:02 (11.8 MB/s) - ‘train-images-idx3-ubyte.gz’ saved [9912422/9912422]\n",
            "\n",
            "--2019-07-13 05:26:03--  http://yann.lecun.com/exdb/mnist/train-labels-idx1-ubyte.gz\n",
            "Resolving yann.lecun.com (yann.lecun.com)... 216.165.22.6\n",
            "Connecting to yann.lecun.com (yann.lecun.com)|216.165.22.6|:80... connected.\n",
            "HTTP request sent, awaiting response... 200 OK\n",
            "Length: 28881 (28K) [application/x-gzip]\n",
            "Saving to: ‘train-labels-idx1-ubyte.gz’\n",
            "\n",
            "train-labels-idx1-u 100%[===================>]  28.20K  --.-KB/s    in 0.08s   \n",
            "\n",
            "2019-07-13 05:26:03 (350 KB/s) - ‘train-labels-idx1-ubyte.gz’ saved [28881/28881]\n",
            "\n",
            "--2019-07-13 05:26:04--  http://yann.lecun.com/exdb/mnist/t10k-images-idx3-ubyte.gz\n",
            "Resolving yann.lecun.com (yann.lecun.com)... 216.165.22.6\n",
            "Connecting to yann.lecun.com (yann.lecun.com)|216.165.22.6|:80... connected.\n",
            "HTTP request sent, awaiting response... 200 OK\n",
            "Length: 1648877 (1.6M) [application/x-gzip]\n",
            "Saving to: ‘t10k-images-idx3-ubyte.gz’\n",
            "\n",
            "t10k-images-idx3-ub 100%[===================>]   1.57M  3.20MB/s    in 0.5s    \n",
            "\n",
            "2019-07-13 05:26:05 (3.20 MB/s) - ‘t10k-images-idx3-ubyte.gz’ saved [1648877/1648877]\n",
            "\n",
            "--2019-07-13 05:26:06--  http://yann.lecun.com/exdb/mnist/t10k-labels-idx1-ubyte.gz\n",
            "Resolving yann.lecun.com (yann.lecun.com)... 216.165.22.6\n",
            "Connecting to yann.lecun.com (yann.lecun.com)|216.165.22.6|:80... connected.\n",
            "HTTP request sent, awaiting response... 200 OK\n",
            "Length: 4542 (4.4K) [application/x-gzip]\n",
            "Saving to: ‘t10k-labels-idx1-ubyte.gz’\n",
            "\n",
            "t10k-labels-idx1-ub 100%[===================>]   4.44K  --.-KB/s    in 0s      \n",
            "\n",
            "2019-07-13 05:26:06 (303 MB/s) - ‘t10k-labels-idx1-ubyte.gz’ saved [4542/4542]\n",
            "\n"
          ],
          "name": "stdout"
        }
      ]
    },
    {
      "cell_type": "code",
      "metadata": {
        "id": "rbscBqFv-gbK",
        "colab_type": "code",
        "colab": {}
      },
      "source": [
        "import numpy as numpy\n",
        "import matplotlib.pyplot as plt\n",
        "\n",
        "# Used for Confusion Matrix\n",
        "from sklearn import metrics\n",
        "import seaborn as sns\n",
        "\n",
        "# Used for Loading MNIST\n",
        "from struct import unpack"
      ],
      "execution_count": 0,
      "outputs": []
    },
    {
      "cell_type": "code",
      "metadata": {
        "id": "mp6lLJNe9-Oy",
        "colab_type": "code",
        "colab": {}
      },
      "source": [
        "#Cargando MNIST DATASETs\n",
        "\n",
        "def loadmnist(imagefile, labelfile):\n",
        "\n",
        "    # Open the images with gzip in read binary mode\n",
        "    images = open(imagefile, 'rb')\n",
        "    labels = open(labelfile, 'rb')\n",
        "\n",
        "    # Get metadata for images\n",
        "    images.read(4)  # skip the magic_number\n",
        "    number_of_images = images.read(4)\n",
        "    number_of_images = unpack('>I', number_of_images)[0]\n",
        "    rows = images.read(4)\n",
        "    rows = unpack('>I', rows)[0]\n",
        "    cols = images.read(4)\n",
        "    cols = unpack('>I', cols)[0]\n",
        "\n",
        "    # Get metadata for labels\n",
        "    labels.read(4)\n",
        "    N = labels.read(4)\n",
        "    N = unpack('>I', N)[0]\n",
        "\n",
        "    # Get data\n",
        "    x = np.zeros((N, rows*cols), dtype=np.uint8)  # Initialize numpy array\n",
        "    y = np.zeros(N, dtype=np.uint8)  # Initialize numpy array\n",
        "    for i in range(N):\n",
        "        for j in range(rows*cols):\n",
        "            tmp_pixel = images.read(1)  # Just a single byte\n",
        "            tmp_pixel = unpack('>B', tmp_pixel)[0]\n",
        "            x[i][j] = tmp_pixel\n",
        "        tmp_label = labels.read(1)\n",
        "        y[i] = unpack('>B', tmp_label)[0]\n",
        "\n",
        "    images.close()\n",
        "    labels.close()\n",
        "    return (x, y)"
      ],
      "execution_count": 0,
      "outputs": []
    },
    {
      "cell_type": "code",
      "metadata": {
        "id": "dOThfftP-KoL",
        "colab_type": "code",
        "colab": {}
      },
      "source": [
        "train_img, train_lbl = loadmnist('train-images-idx3-ubyte'\n",
        "                                 , 'train-labels-idx1-ubyte')\n",
        "test_img, test_lbl = loadmnist('t10k-images-idx3-ubyte'\n",
        "                               , 't10k-labels-idx1-ubyte')"
      ],
      "execution_count": 0,
      "outputs": []
    },
    {
      "cell_type": "code",
      "metadata": {
        "id": "afKOP8Sg-0hx",
        "colab_type": "code",
        "outputId": "8821c7da-9f5e-4624-fdc6-9b0e2e33c598",
        "colab": {
          "base_uri": "https://localhost:8080/",
          "height": 85
        }
      },
      "source": [
        "print(train_img.shape)\n",
        "print(train_lbl.shape)\n",
        "print(test_img.shape)\n",
        "print(test_lbl.shape)"
      ],
      "execution_count": 7,
      "outputs": [
        {
          "output_type": "stream",
          "text": [
            "(60000, 784)\n",
            "(60000,)\n",
            "(10000, 784)\n",
            "(10000,)\n"
          ],
          "name": "stdout"
        }
      ]
    },
    {
      "cell_type": "code",
      "metadata": {
        "id": "CIYi8PTG_JpS",
        "colab_type": "code",
        "outputId": "41d21939-b041-4049-fd74-6ec5fbb30081",
        "colab": {
          "base_uri": "https://localhost:8080/",
          "height": 283
        }
      },
      "source": [
        "#Mostrando Digitos y Labels Entrenados\n",
        "\n",
        "plt.figure(figsize=(20,4))\n",
        "for index, (image, label) in enumerate(zip(train_img[0:5], train_lbl[0:5])):\n",
        "    plt.subplot(1, 5, index + 1)\n",
        "    plt.imshow(np.reshape(image, (28,28)), cmap=plt.cm.gray)\n",
        "    plt.title('Training: %i\\n' % label, fontsize = 20)\n"
      ],
      "execution_count": 8,
      "outputs": [
        {
          "output_type": "display_data",
          "data": {
            "image/png": "[encoded data removed]",
            "text/plain": [
              "<Figure size 1440x288 with 5 Axes>"
            ]
          },
          "metadata": {
            "tags": []
          }
        }
      ]
    },
    {
      "cell_type": "code",
      "metadata": {
        "id": "jknYGwYA_g47",
        "colab_type": "code",
        "outputId": "b949e29c-121c-4af8-dbc7-cfc9e2ad47c3",
        "colab": {
          "base_uri": "https://localhost:8080/",
          "height": 765
        }
      },
      "source": [
        "\n",
        "# This is how the computer sees the number 5\n",
        "print(train_img[0])"
      ],
      "execution_count": 9,
      "outputs": [
        {
          "output_type": "stream",
          "text": [
            "[  0   0   0   0   0   0   0   0   0   0   0   0   0   0   0   0   0   0\n",
            "   0   0   0   0   0   0   0   0   0   0   0   0   0   0   0   0   0   0\n",
            "   0   0   0   0   0   0   0   0   0   0   0   0   0   0   0   0   0   0\n",
            "   0   0   0   0   0   0   0   0   0   0   0   0   0   0   0   0   0   0\n",
            "   0   0   0   0   0   0   0   0   0   0   0   0   0   0   0   0   0   0\n",
            "   0   0   0   0   0   0   0   0   0   0   0   0   0   0   0   0   0   0\n",
            "   0   0   0   0   0   0   0   0   0   0   0   0   0   0   0   0   0   0\n",
            "   0   0   0   0   0   0   0   0   0   0   0   0   0   0   0   0   0   0\n",
            "   0   0   0   0   0   0   0   0   3  18  18  18 126 136 175  26 166 255\n",
            " 247 127   0   0   0   0   0   0   0   0   0   0   0   0  30  36  94 154\n",
            " 170 253 253 253 253 253 225 172 253 242 195  64   0   0   0   0   0   0\n",
            "   0   0   0   0   0  49 238 253 253 253 253 253 253 253 253 251  93  82\n",
            "  82  56  39   0   0   0   0   0   0   0   0   0   0   0   0  18 219 253\n",
            " 253 253 253 253 198 182 247 241   0   0   0   0   0   0   0   0   0   0\n",
            "   0   0   0   0   0   0   0   0  80 156 107 253 253 205  11   0  43 154\n",
            "   0   0   0   0   0   0   0   0   0   0   0   0   0   0   0   0   0   0\n",
            "   0  14   1 154 253  90   0   0   0   0   0   0   0   0   0   0   0   0\n",
            "   0   0   0   0   0   0   0   0   0   0   0   0   0 139 253 190   2   0\n",
            "   0   0   0   0   0   0   0   0   0   0   0   0   0   0   0   0   0   0\n",
            "   0   0   0   0   0  11 190 253  70   0   0   0   0   0   0   0   0   0\n",
            "   0   0   0   0   0   0   0   0   0   0   0   0   0   0   0   0  35 241\n",
            " 225 160 108   1   0   0   0   0   0   0   0   0   0   0   0   0   0   0\n",
            "   0   0   0   0   0   0   0   0   0  81 240 253 253 119  25   0   0   0\n",
            "   0   0   0   0   0   0   0   0   0   0   0   0   0   0   0   0   0   0\n",
            "   0   0  45 186 253 253 150  27   0   0   0   0   0   0   0   0   0   0\n",
            "   0   0   0   0   0   0   0   0   0   0   0   0   0  16  93 252 253 187\n",
            "   0   0   0   0   0   0   0   0   0   0   0   0   0   0   0   0   0   0\n",
            "   0   0   0   0   0   0   0 249 253 249  64   0   0   0   0   0   0   0\n",
            "   0   0   0   0   0   0   0   0   0   0   0   0   0   0  46 130 183 253\n",
            " 253 207   2   0   0   0   0   0   0   0   0   0   0   0   0   0   0   0\n",
            "   0   0   0   0  39 148 229 253 253 253 250 182   0   0   0   0   0   0\n",
            "   0   0   0   0   0   0   0   0   0   0   0   0  24 114 221 253 253 253\n",
            " 253 201  78   0   0   0   0   0   0   0   0   0   0   0   0   0   0   0\n",
            "   0   0  23  66 213 253 253 253 253 198  81   2   0   0   0   0   0   0\n",
            "   0   0   0   0   0   0   0   0   0   0  18 171 219 253 253 253 253 195\n",
            "  80   9   0   0   0   0   0   0   0   0   0   0   0   0   0   0   0   0\n",
            "  55 172 226 253 253 253 253 244 133  11   0   0   0   0   0   0   0   0\n",
            "   0   0   0   0   0   0   0   0   0   0 136 253 253 253 212 135 132  16\n",
            "   0   0   0   0   0   0   0   0   0   0   0   0   0   0   0   0   0   0\n",
            "   0   0   0   0   0   0   0   0   0   0   0   0   0   0   0   0   0   0\n",
            "   0   0   0   0   0   0   0   0   0   0   0   0   0   0   0   0   0   0\n",
            "   0   0   0   0   0   0   0   0   0   0   0   0   0   0   0   0   0   0\n",
            "   0   0   0   0   0   0   0   0   0   0   0   0   0   0   0   0   0   0\n",
            "   0   0   0   0   0   0   0   0   0   0]\n"
          ],
          "name": "stdout"
        }
      ]
    },
    {
      "cell_type": "code",
      "metadata": {
        "id": "zBvbyk_LBfE6",
        "colab_type": "code",
        "outputId": "0d5d9ee4-fe60-47d2-f71f-11fcb4dc06f6",
        "colab": {
          "base_uri": "https://localhost:8080/",
          "height": 85
        }
      },
      "source": [
        "# Perceptron MINST \n",
        "\n",
        "from sklearn.linear_model import Perceptron\n",
        "# Se aplica Perceptron #\n",
        "ppn=Perceptron(max_iter=40,eta0=0.1,random_state=1)\n",
        "ppn.fit(train_img, train_lbl)\n",
        "\n",
        "\n",
        "\n"
      ],
      "execution_count": 0,
      "outputs": [
        {
          "output_type": "execute_result",
          "data": {
            "text/plain": [
              "Perceptron(alpha=0.0001, class_weight=None, early_stopping=False, eta0=0.1,\n",
              "           fit_intercept=True, max_iter=40, n_iter_no_change=5, n_jobs=None,\n",
              "           penalty=None, random_state=1, shuffle=True, tol=0.001,\n",
              "           validation_fraction=0.1, verbose=0, warm_start=False)"
            ]
          },
          "metadata": {
            "tags": []
          },
          "execution_count": 53
        }
      ]
    },
    {
      "cell_type": "code",
      "metadata": {
        "id": "ziWSaUP3E7BK",
        "colab_type": "code",
        "outputId": "cb94a771-3a71-41e4-eddf-b64e16328087",
        "colab": {
          "base_uri": "https://localhost:8080/",
          "height": 119
        }
      },
      "source": [
        "# Adaline - Linear Regressor MINST\n",
        "from sklearn import linear_model\n",
        "\n",
        "ada = linear_model.SGDRegressor(max_iter=1000, tol=1e-3)\n",
        "ada.fit(train_img, train_lbl)\n",
        "\n"
      ],
      "execution_count": 0,
      "outputs": [
        {
          "output_type": "execute_result",
          "data": {
            "text/plain": [
              "SGDRegressor(alpha=0.0001, average=False, early_stopping=False, epsilon=0.1,\n",
              "             eta0=0.01, fit_intercept=True, l1_ratio=0.15,\n",
              "             learning_rate='invscaling', loss='squared_loss', max_iter=1000,\n",
              "             n_iter_no_change=5, penalty='l2', power_t=0.25, random_state=None,\n",
              "             shuffle=True, tol=0.001, validation_fraction=0.1, verbose=0,\n",
              "             warm_start=False)"
            ]
          },
          "metadata": {
            "tags": []
          },
          "execution_count": 54
        }
      ]
    },
    {
      "cell_type": "code",
      "metadata": {
        "id": "EdQYpBrSRBfQ",
        "colab_type": "code",
        "colab": {}
      },
      "source": [
        "\n",
        "# Logistic Regression MINST\n",
        "\n",
        "from sklearn.linear_model import LogisticRegression\n",
        "# Se aplica Logictic Regression\n",
        "log_reg = LogisticRegression()\n",
        "log_reg.fit(train_img, train_lbl)"
      ],
      "execution_count": 0,
      "outputs": []
    },
    {
      "cell_type": "code",
      "metadata": {
        "id": "8mWw_mfuzzLr",
        "colab_type": "code",
        "colab": {}
      },
      "source": [
        ""
      ],
      "execution_count": 0,
      "outputs": []
    }
  ]
}