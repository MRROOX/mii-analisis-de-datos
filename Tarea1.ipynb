{
  "nbformat": 4,
  "nbformat_minor": 0,
  "metadata": {
    "colab": {
      "name": "Tarea1.ipynb",
      "version": "0.3.2",
      "provenance": [],
      "collapsed_sections": [],
      "include_colab_link": true
    },
    "kernelspec": {
      "name": "python3",
      "display_name": "Python 3"
    }
  },
  "cells": [
    {
      "cell_type": "markdown",
      "metadata": {
        "id": "view-in-github",
        "colab_type": "text"
      },
      "source": [
        "<a href=\"https://colab.research.google.com/github/MRROOX/mii-analisis-de-datos/blob/master/Tarea1.ipynb\" target=\"_parent\"><img src=\"https://colab.research.google.com/assets/colab-badge.svg\" alt=\"Open In Colab\"/></a>"
      ]
    },
    {
      "cell_type": "markdown",
      "metadata": {
        "id": "9Sr1wodDUG5l",
        "colab_type": "text"
      },
      "source": [
        "# Tarea 1 - Clustering Módulo Análisis de Datos, EMI2016-1, 1° Semestre 2019\n",
        "\n",
        "**Alumno: Felipe Quezada Gajardo** \n",
        "\n",
        "**Instrucciones**\n",
        "\n",
        "* (i) Construir una matriz de incidencia entre clientes y ofertas. Los datos serı́an los clientes que se caracterizan por un vector de dimensión 32 y componentes binarias.\n",
        "* (ii) Correr el algoritmo kmeans para encontrar los clusters. Para ello se puede utilizar en Python el objeto KMeans de sklearn.clusters.\n",
        "* (iii) Caracterizar los clusters de clientes resultantes en base a las caracterı́sticas de las ofertas más utilizadas en cada cluster.\n",
        "* (iv) Identificar el número más adecuado de clusters utilizando el método del codo, y el de silhouette (objeto silhouette score de sklearn.metrics)."
      ]
    },
    {
      "cell_type": "code",
      "metadata": {
        "id": "Zy4IXOsTURSy",
        "colab_type": "code",
        "colab": {}
      },
      "source": [
        "# Import de dependencias\n",
        "import pandas as pd\n",
        "import numpy as np\n",
        "from sklearn.cluster import KMeans\n",
        "from sklearn.metrics import silhouette_samples, silhouette_score\n",
        "from scipy.spatial.distance import cdist\n",
        "import matplotlib.pyplot as plt\n",
        "from sklearn.decomposition import PCA\n"
      ],
      "execution_count": 0,
      "outputs": []
    },
    {
      "cell_type": "code",
      "metadata": {
        "id": "_3JPIaKn1Sw-",
        "colab_type": "code",
        "outputId": "4397162e-6ac2-4058-9ffb-87ce0bd80c0a",
        "colab": {
          "resources": {
            "http://localhost:8080/nbextensions/google.colab/files.js": {
              "data": "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",
              "ok": true,
              "headers": [
                [
                  "content-type",
                  "application/javascript"
                ]
              ],
              "status": 200,
              "status_text": ""
            }
          },
          "base_uri": "https://localhost:8080/",
          "height": 91
        }
      },
      "source": [
        "# Para subir el archivo a Collabs \n",
        "# Se debe cargar el Archivo Wine_Transactions.xlsx desde nuestro PC.\n",
        "from google.colab import files\n",
        "uploaded = files.upload()"
      ],
      "execution_count": 4,
      "outputs": [
        {
          "output_type": "display_data",
          "data": {
            "text/html": [
              "\n",
              "     <input type=\"file\" id=\"files-31cfde9f-f65b-4ba8-abd2-8d4cd445d6b1\" name=\"files[]\" multiple disabled />\n",
              "     <output id=\"result-31cfde9f-f65b-4ba8-abd2-8d4cd445d6b1\">\n",
              "      Upload widget is only available when the cell has been executed in the\n",
              "      current browser session. Please rerun this cell to enable.\n",
              "      </output>\n",
              "      <script src=\"/nbextensions/google.colab/files.js\"></script> "
            ],
            "text/plain": [
              "<IPython.core.display.HTML object>"
            ]
          },
          "metadata": {
            "tags": []
          }
        },
        {
          "output_type": "stream",
          "text": [
            "Saving Wine_Transactions.xlsx to Wine_Transactions.xlsx\n"
          ],
          "name": "stdout"
        }
      ]
    },
    {
      "cell_type": "code",
      "metadata": {
        "id": "FBfNoI7tUmBv",
        "colab_type": "code",
        "colab": {
          "base_uri": "https://localhost:8080/",
          "height": 1000
        },
        "outputId": "415b1076-91f2-4191-d81b-9b9681c8c627"
      },
      "source": [
        "# Cargamos el archivo .xlsx a una Variable\n",
        "import io\n",
        "wine_transactions = pd.ExcelFile(io.BytesIO(uploaded['Wine_Transactions.xlsx']))\n",
        "#print(wine_transactions)\n",
        "\n",
        "\n",
        "# Se lée la hoja de OfferInformation\n",
        "OfferInformation = pd.read_excel(wine_transactions, sheet_name=0)\n",
        "#print(OfferInformation)\n",
        "\n",
        "\n",
        "# Se lée la hoja de Transactions\n",
        "Transactions = pd.read_excel(wine_transactions, sheet_name=1)\n",
        "#print(Transactions)\n",
        "\n",
        "# Se unen las dos hojas para que sea mas facil trabajar con los datos.\n",
        "datos_entrada = pd.merge(OfferInformation, Transactions)\n",
        "print(datos_entrada)\n"
      ],
      "execution_count": 25,
      "outputs": [
        {
          "output_type": "stream",
          "text": [
            "     Offer #  Campaign  ... Past Peak  Customer Last Name\n",
            "0          1   January  ...     False              Thomas\n",
            "1          1   January  ...     False             Jackson\n",
            "2          1   January  ...     False            Mitchell\n",
            "3          1   January  ...     False            Peterson\n",
            "4          1   January  ...     False                Wood\n",
            "5          1   January  ...     False               Price\n",
            "6          1   January  ...     False              Foster\n",
            "7          1   January  ...     False             Sanders\n",
            "8          1   January  ...     False              Butler\n",
            "9          1   January  ...     False              Fisher\n",
            "10         2   January  ...     False               Smith\n",
            "11         2   January  ...     False           Rodriguez\n",
            "12         2   January  ...     False              Martin\n",
            "13         2   January  ...     False             Jackson\n",
            "14         2   January  ...     False            Campbell\n",
            "15         2   January  ...     False            Mitchell\n",
            "16         2   January  ...     False            Peterson\n",
            "17         2   January  ...     False                Bell\n",
            "18         2   January  ...     False                 Cox\n",
            "19         2   January  ...     False              Fisher\n",
            "20         3  February  ...      True                 Lee\n",
            "21         3  February  ...      True              Nelson\n",
            "22         3  February  ...      True              Rogers\n",
            "23         3  February  ...      True          Richardson\n",
            "24         3  February  ...      True              Brooks\n",
            "25         3  February  ...      True                Long\n",
            "26         4  February  ...      True              Thomas\n",
            "27         4  February  ...      True                 Lee\n",
            "28         4  February  ...      True              Harris\n",
            "29         4  February  ...      True               Clark\n",
            "..       ...       ...  ...       ...                 ...\n",
            "294       30  December  ...     False                Diaz\n",
            "295       30  December  ...     False               James\n",
            "296       30  December  ...     False                Cruz\n",
            "297       30  December  ...     False              Hughes\n",
            "298       30  December  ...     False               Price\n",
            "299       30  December  ...     False               Myers\n",
            "300       30  December  ...     False               Perry\n",
            "301       30  December  ...     False              Butler\n",
            "302       30  December  ...     False              Fisher\n",
            "303       31  December  ...     False            Williams\n",
            "304       31  December  ...     False              Miller\n",
            "305       31  December  ...     False            Gonzalez\n",
            "306       31  December  ...     False               Clark\n",
            "307       31  December  ...     False               Young\n",
            "308       31  December  ...     False               Baker\n",
            "309       31  December  ...     False              Nelson\n",
            "310       31  December  ...     False             Roberts\n",
            "311       31  December  ...     False              Turner\n",
            "312       31  December  ...     False              Parker\n",
            "313       31  December  ...     False              Nguyen\n",
            "314       31  December  ...     False               Kelly\n",
            "315       31  December  ...     False                Wood\n",
            "316       31  December  ...     False               Price\n",
            "317       31  December  ...     False             Morales\n",
            "318       31  December  ...     False              Barnes\n",
            "319       31  December  ...     False              Fisher\n",
            "320       32  December  ...      True               Young\n",
            "321       32  December  ...      True              Cooper\n",
            "322       32  December  ...      True               Gomez\n",
            "323       32  December  ...      True               Kelly\n",
            "\n",
            "[324 rows x 8 columns]\n"
          ],
          "name": "stdout"
        }
      ]
    },
    {
      "cell_type": "code",
      "metadata": {
        "id": "yibnJVR95eOi",
        "colab_type": "code",
        "outputId": "84c65c0f-fe94-4ad7-f8d8-489bc9f4cd50",
        "colab": {
          "base_uri": "https://localhost:8080/",
          "height": 1000
        }
      },
      "source": [
        "# Se construye la matriz de incidencia entre clientes y ofertas del punto i, se utiliza\n",
        "# la funcion pivot_table\n",
        "# Se obtienen los datos de Ofertas \"Offer #\" y los Consumidores \"Customer Last Name\"\n",
        "pivot = pd.pivot_table(datos_entrada, index=[\"Offer #\"], columns=[\"Customer Last Name\"], aggfunc=len, fill_value='0')\n",
        "\n",
        "matriz_pivot = pivot = pd.pivot_table(Transactions, index=[\"Offer #\"], columns=[\"Customer Last Name\"], aggfunc=len, fill_value='0')\n",
        "\n",
        "#print(matriz_pivot)\n",
        "\n",
        "#print(pivot)\n",
        "\n",
        "# Convertir la matriz generada en una matriz para ser usada con numpy\n",
        "# Y posteriormente aplicar los metodos del codo y silhouette.\n",
        "\n",
        "X = matriz_pivot.as_matrix()\n",
        "X = np.matrix(X)\n",
        "data_metodos = X.T\n",
        "\n",
        "print('Matriz Solo de Datos para Metodo del Codo y Silhouette')\n",
        "print(data_metodos)\n",
        "\n",
        "# Se aplica la transpuesta de la matriz, y se obtiene la matriz de incidencia.\n",
        "\n",
        "matriz_incidencia = matriz_pivot.T\n",
        "\n",
        "matriz_resultados = matriz_incidencia\n",
        "\n",
        "print('Matriz de Incidencia 100x32')\n",
        "print(matriz_incidencia)\n",
        "\n",
        "# Aplicacion de el algoritmo de Kmeans del punto ii considerando 5 cluster optimos sugeridos\n",
        "# por el metodo de Silhouette expuesto al final.\n",
        "\n",
        "\n",
        "\n",
        "matriz_resultados['Cluster'] = KMeans(n_clusters=5).fit_predict(matriz_resultados)\n",
        "\n",
        "#matriz['Cluster'] = KMeans(n_clusters=5).fit_predict(matriz[matriz.columns[2:]])\n",
        "\n",
        "# Se imprime la cantidad de veces que se repite un número en la matriz por cluster\n",
        "#print(matriz.Cluster.value_counts())\n",
        "#print(matriz_incidencia)\n",
        "print('Matriz de Resultados en donde se Muestra los Costumer con sus Cluster respectivo')\n",
        "print(matriz_resultados)\n"
      ],
      "execution_count": 87,
      "outputs": [
        {
          "output_type": "stream",
          "text": [
            "/usr/local/lib/python3.6/dist-packages/ipykernel_launcher.py:12: FutureWarning: Method .as_matrix will be removed in a future version. Use .values instead.\n",
            "  if sys.path[0] == '':\n"
          ],
          "name": "stderr"
        },
        {
          "output_type": "stream",
          "text": [
            "Matriz Solo de Datos para Metodo del Codo y Silhouette\n",
            "[['0' '0' '0' ... 1.0 '0' '0']\n",
            " ['0' '0' '0' ... '0' '0' '0']\n",
            " ['0' '0' '0' ... '0' '0' '0']\n",
            " ...\n",
            " [1.0 '0' '0' ... '0' 1.0 '0']\n",
            " ['0' '0' '0' ... '0' '0' '0']\n",
            " ['0' '0' '0' ... '0' 1.0 1.0]]\n",
            "Matriz de Incidencia 100x32\n",
            "Offer #            1  2  3  4  5  6  7  8  9  10  ... 23 24 25 26 27 28 29 30 31 32\n",
            "Customer Last Name                                ...                              \n",
            "Adams               0  0  0  0  0  0  0  0  0  0  ...  0  0  0  0  0  0  1  1  0  0\n",
            "Allen               0  0  0  0  0  0  0  0  1  0  ...  0  0  0  0  1  0  0  0  0  0\n",
            "Anderson            0  0  0  0  0  0  0  0  0  0  ...  0  1  0  1  0  0  0  0  0  0\n",
            "Bailey              0  0  0  0  0  0  1  0  0  0  ...  0  0  0  0  0  0  0  1  0  0\n",
            "Baker               0  0  0  0  0  0  1  0  0  1  ...  0  0  0  0  0  0  0  0  1  0\n",
            "Barnes              0  0  0  0  0  0  0  0  0  1  ...  0  0  0  0  0  0  0  0  1  0\n",
            "Bell                0  1  0  0  0  0  0  0  0  0  ...  0  1  0  1  0  0  0  0  0  0\n",
            "Bennett             0  0  0  0  0  0  0  1  0  0  ...  0  0  0  0  0  0  1  0  0  0\n",
            "Brooks              0  0  1  0  0  0  0  1  0  0  ...  0  0  0  0  0  0  0  0  0  0\n",
            "Brown               0  0  0  0  0  0  1  0  0  0  ...  0  0  0  0  0  0  1  1  0  0\n",
            "Butler              1  0  0  1  0  0  0  0  0  0  ...  0  0  0  0  0  1  0  1  0  0\n",
            "Campbell            0  1  0  0  0  0  0  0  0  0  ...  0  1  0  1  0  0  0  0  0  0\n",
            "Carter              0  0  0  0  0  0  1  0  0  0  ...  0  0  0  0  0  0  1  1  0  0\n",
            "Clark               0  0  0  1  0  0  0  0  0  0  ...  0  0  0  0  0  1  0  0  1  0\n",
            "Collins             0  0  0  0  0  0  0  0  0  0  ...  0  0  0  0  0  0  0  1  0  0\n",
            "Cook                0  0  0  0  0  0  0  0  0  0  ...  0  1  0  1  0  0  0  0  0  0\n",
            "Cooper              0  0  0  1  0  0  0  0  0  0  ...  0  0  0  0  0  0  0  0  0  1\n",
            "Cox                 0  1  0  0  0  0  0  0  0  0  ...  0  1  0  1  0  0  0  0  0  0\n",
            "Cruz                0  0  0  0  0  0  0  0  0  0  ...  0  0  0  0  0  0  1  1  0  0\n",
            "Davis               0  0  0  0  0  0  0  0  0  0  ...  0  0  1  0  0  0  0  0  0  0\n",
            "Diaz                0  0  0  0  0  0  1  1  0  0  ...  0  0  0  0  0  0  1  1  0  0\n",
            "Edwards             0  0  0  0  0  0  0  1  0  0  ...  0  0  0  0  1  0  0  0  0  0\n",
            "Evans               0  0  0  0  0  0  0  0  0  0  ...  0  0  0  0  1  0  0  0  0  0\n",
            "Fisher              1  1  0  0  0  0  0  0  0  0  ...  0  0  0  0  0  1  0  1  1  0\n",
            "Flores              0  0  0  0  0  0  0  0  0  0  ...  0  1  0  0  0  0  0  0  0  0\n",
            "Foster              1  0  0  0  0  0  0  0  1  0  ...  1  0  0  0  0  0  0  0  0  0\n",
            "Garcia              0  0  0  0  0  0  0  0  0  0  ...  0  0  0  0  0  0  0  0  0  0\n",
            "Gomez               0  0  0  0  0  0  0  0  0  0  ...  0  0  1  0  0  0  0  0  0  1\n",
            "Gonzalez            0  0  0  0  0  0  0  0  1  0  ...  0  0  0  0  0  0  0  0  1  0\n",
            "Gray                0  0  0  0  0  0  0  0  0  0  ...  0  0  0  1  0  0  0  0  0  0\n",
            "...                .. .. .. .. .. .. .. .. .. ..  ... .. .. .. .. .. .. .. .. .. ..\n",
            "Reed                0  0  0  0  1  0  0  0  0  0  ...  0  0  0  0  0  0  0  0  0  0\n",
            "Reyes               0  0  0  0  0  0  0  0  1  0  ...  1  0  0  0  0  0  0  0  0  0\n",
            "Richardson          0  0  1  0  0  1  0  0  0  0  ...  0  0  0  0  0  0  0  0  0  0\n",
            "Rivera              0  0  0  0  0  0  1  0  0  0  ...  0  0  0  0  0  0  0  0  0  0\n",
            "Roberts             0  0  0  0  0  0  0  0  0  0  ...  0  0  0  0  0  0  0  0  1  0\n",
            "Robinson            0  0  0  0  0  0  1  0  0  0  ...  0  0  0  0  0  0  1  0  0  0\n",
            "Rodriguez           0  1  0  0  0  0  0  0  0  0  ...  0  0  0  1  0  0  0  0  0  0\n",
            "Rogers              0  0  1  0  0  0  1  1  0  0  ...  0  0  0  0  0  0  0  0  0  0\n",
            "Ross                0  0  0  0  0  0  0  0  0  0  ...  0  0  0  0  0  0  0  0  0  0\n",
            "Russell             0  0  0  0  0  0  0  0  0  0  ...  0  0  0  1  0  0  0  0  0  0\n",
            "Sanchez             0  0  0  1  1  0  0  0  0  0  ...  0  0  0  1  0  0  0  0  0  0\n",
            "Sanders             1  0  0  1  1  1  0  0  1  0  ...  0  0  1  1  0  0  0  0  0  0\n",
            "Scott               0  0  0  0  0  1  0  0  0  0  ...  1  0  0  0  0  0  0  0  0  0\n",
            "Smith               0  1  0  0  0  0  0  0  0  0  ...  0  1  0  0  0  0  0  0  0  0\n",
            "Stewart             0  0  0  0  0  0  0  1  0  0  ...  0  0  0  0  0  0  1  1  0  0\n",
            "Sullivan            0  0  0  0  0  0  0  1  0  0  ...  0  0  0  0  0  0  0  0  0  0\n",
            "Taylor              0  0  0  0  0  0  1  0  0  0  ...  0  0  0  0  0  0  1  1  0  0\n",
            "Thomas              1  0  0  1  0  0  0  0  1  0  ...  0  0  0  1  0  0  0  0  0  0\n",
            "Thompson            0  0  0  0  0  0  0  0  1  0  ...  0  0  1  0  0  0  0  1  0  0\n",
            "Torres              0  0  0  0  0  0  0  1  0  0  ...  0  0  0  0  0  0  0  0  0  0\n",
            "Turner              0  0  0  1  0  1  0  0  0  0  ...  0  0  0  0  1  0  0  0  1  0\n",
            "Walker              0  0  0  0  0  0  0  0  0  0  ...  0  0  0  0  0  0  1  0  0  0\n",
            "Ward                0  0  0  1  0  0  0  0  0  0  ...  0  0  0  0  0  0  0  0  0  0\n",
            "Watson              0  0  0  0  0  0  1  0  0  0  ...  0  0  0  0  0  0  1  0  0  0\n",
            "White               0  0  0  0  0  0  0  0  0  0  ...  0  0  1  0  0  0  0  1  0  0\n",
            "Williams            0  0  0  0  0  0  0  0  0  0  ...  0  0  0  0  0  0  0  0  1  0\n",
            "Wilson              0  0  0  0  0  0  0  1  0  0  ...  0  0  0  0  0  0  0  1  0  0\n",
            "Wood                1  0  0  0  0  0  0  0  0  1  ...  0  0  0  0  0  0  0  0  1  0\n",
            "Wright              0  0  0  1  0  1  0  0  0  0  ...  0  0  0  0  1  0  0  0  0  0\n",
            "Young               0  0  0  0  0  1  0  0  1  0  ...  0  0  0  0  0  0  0  0  1  1\n",
            "\n",
            "[100 rows x 32 columns]\n",
            "Matriz de Resultados en donde se Muestra los Costumer con sus Cluster respectivo\n",
            "Offer #             1  2  3  4  5  6  7  8  9  ... 25 26 27 28 29 30 31 32 Cluster\n",
            "Customer Last Name                             ...                                \n",
            "Adams               0  0  0  0  0  0  0  0  0  ...  0  0  0  0  1  1  0  0       3\n",
            "Allen               0  0  0  0  0  0  0  0  1  ...  0  0  1  0  0  0  0  0       1\n",
            "Anderson            0  0  0  0  0  0  0  0  0  ...  0  1  0  0  0  0  0  0       0\n",
            "Bailey              0  0  0  0  0  0  1  0  0  ...  0  0  0  0  0  1  0  0       3\n",
            "Baker               0  0  0  0  0  0  1  0  0  ...  0  0  0  0  0  0  1  0       1\n",
            "Barnes              0  0  0  0  0  0  0  0  0  ...  0  0  0  0  0  0  1  0       1\n",
            "Bell                0  1  0  0  0  0  0  0  0  ...  0  1  0  0  0  0  0  0       0\n",
            "Bennett             0  0  0  0  0  0  0  1  0  ...  0  0  0  0  1  0  0  0       4\n",
            "Brooks              0  0  1  0  0  0  0  1  0  ...  0  0  0  0  0  0  0  0       4\n",
            "Brown               0  0  0  0  0  0  1  0  0  ...  0  0  0  0  1  1  0  0       3\n",
            "Butler              1  0  0  1  0  0  0  0  0  ...  0  0  0  1  0  1  0  0       1\n",
            "Campbell            0  1  0  0  0  0  0  0  0  ...  0  1  0  0  0  0  0  0       0\n",
            "Carter              0  0  0  0  0  0  1  0  0  ...  0  0  0  0  1  1  0  0       3\n",
            "Clark               0  0  0  1  0  0  0  0  0  ...  0  0  0  1  0  0  1  0       1\n",
            "Collins             0  0  0  0  0  0  0  0  0  ...  0  0  0  0  0  1  0  0       1\n",
            "Cook                0  0  0  0  0  0  0  0  0  ...  0  1  0  0  0  0  0  0       0\n",
            "Cooper              0  0  0  1  0  0  0  0  0  ...  0  0  0  0  0  0  0  1       1\n",
            "Cox                 0  1  0  0  0  0  0  0  0  ...  0  1  0  0  0  0  0  0       0\n",
            "Cruz                0  0  0  0  0  0  0  0  0  ...  0  0  0  0  1  1  0  0       3\n",
            "Davis               0  0  0  0  0  0  0  0  0  ...  1  0  0  0  0  0  0  0       1\n",
            "Diaz                0  0  0  0  0  0  1  1  0  ...  0  0  0  0  1  1  0  0       3\n",
            "Edwards             0  0  0  0  0  0  0  1  0  ...  0  0  1  0  0  0  0  0       4\n",
            "Evans               0  0  0  0  0  0  0  0  0  ...  0  0  1  0  0  0  0  0       1\n",
            "Fisher              1  1  0  0  0  0  0  0  0  ...  0  0  0  1  0  1  1  0       1\n",
            "Flores              0  0  0  0  0  0  0  0  0  ...  0  0  0  0  0  0  0  0       0\n",
            "Foster              1  0  0  0  0  0  0  0  1  ...  0  0  0  0  0  0  0  0       1\n",
            "Garcia              0  0  0  0  0  0  0  0  0  ...  0  0  0  0  0  0  0  0       1\n",
            "Gomez               0  0  0  0  0  0  0  0  0  ...  1  0  0  0  0  0  0  1       1\n",
            "Gonzalez            0  0  0  0  0  0  0  0  1  ...  0  0  0  0  0  0  1  0       1\n",
            "Gray                0  0  0  0  0  0  0  0  0  ...  0  1  0  0  0  0  0  0       0\n",
            "...                .. .. .. .. .. .. .. .. ..  ... .. .. .. .. .. .. .. ..     ...\n",
            "Reed                0  0  0  0  1  0  0  0  0  ...  0  0  0  0  0  0  0  0       1\n",
            "Reyes               0  0  0  0  0  0  0  0  1  ...  0  0  0  0  0  0  0  0       1\n",
            "Richardson          0  0  1  0  0  1  0  0  0  ...  0  0  0  0  0  0  0  0       2\n",
            "Rivera              0  0  0  0  0  0  1  0  0  ...  0  0  0  0  0  0  0  0       3\n",
            "Roberts             0  0  0  0  0  0  0  0  0  ...  0  0  0  0  0  0  1  0       1\n",
            "Robinson            0  0  0  0  0  0  1  0  0  ...  0  0  0  0  1  0  0  0       3\n",
            "Rodriguez           0  1  0  0  0  0  0  0  0  ...  0  1  0  0  0  0  0  0       0\n",
            "Rogers              0  0  1  0  0  0  1  1  0  ...  0  0  0  0  0  0  0  0       4\n",
            "Ross                0  0  0  0  0  0  0  0  0  ...  0  0  0  0  0  0  0  0       1\n",
            "Russell             0  0  0  0  0  0  0  0  0  ...  0  1  0  0  0  0  0  0       0\n",
            "Sanchez             0  0  0  1  1  0  0  0  0  ...  0  1  0  0  0  0  0  0       1\n",
            "Sanders             1  0  0  1  1  1  0  0  1  ...  1  1  0  0  0  0  0  0       1\n",
            "Scott               0  0  0  0  0  1  0  0  0  ...  0  0  0  0  0  0  0  0       1\n",
            "Smith               0  1  0  0  0  0  0  0  0  ...  0  0  0  0  0  0  0  0       0\n",
            "Stewart             0  0  0  0  0  0  0  1  0  ...  0  0  0  0  1  1  0  0       4\n",
            "Sullivan            0  0  0  0  0  0  0  1  0  ...  0  0  0  0  0  0  0  0       4\n",
            "Taylor              0  0  0  0  0  0  1  0  0  ...  0  0  0  0  1  1  0  0       3\n",
            "Thomas              1  0  0  1  0  0  0  0  1  ...  0  1  0  0  0  0  0  0       1\n",
            "Thompson            0  0  0  0  0  0  0  0  1  ...  1  0  0  0  0  1  0  0       1\n",
            "Torres              0  0  0  0  0  0  0  1  0  ...  0  0  0  0  0  0  0  0       4\n",
            "Turner              0  0  0  1  0  1  0  0  0  ...  0  0  1  0  0  0  1  0       2\n",
            "Walker              0  0  0  0  0  0  0  0  0  ...  0  0  0  0  1  0  0  0       3\n",
            "Ward                0  0  0  1  0  0  0  0  0  ...  0  0  0  0  0  0  0  0       1\n",
            "Watson              0  0  0  0  0  0  1  0  0  ...  0  0  0  0  1  0  0  0       3\n",
            "White               0  0  0  0  0  0  0  0  0  ...  1  0  0  0  0  1  0  0       1\n",
            "Williams            0  0  0  0  0  0  0  0  0  ...  0  0  0  0  0  0  1  0       1\n",
            "Wilson              0  0  0  0  0  0  0  1  0  ...  0  0  0  0  0  1  0  0       4\n",
            "Wood                1  0  0  0  0  0  0  0  0  ...  0  0  0  0  0  0  1  0       1\n",
            "Wright              0  0  0  1  0  1  0  0  0  ...  0  0  1  0  0  0  0  0       2\n",
            "Young               0  0  0  0  0  1  0  0  1  ...  0  0  0  0  0  0  1  1       2\n",
            "\n",
            "[100 rows x 33 columns]\n"
          ],
          "name": "stdout"
        }
      ]
    },
    {
      "cell_type": "code",
      "metadata": {
        "id": "S6ktEVnu73GZ",
        "colab_type": "code",
        "outputId": "66d261e7-b74f-4b98-d33c-4baaf1da3438",
        "colab": {
          "base_uri": "https://localhost:8080/",
          "height": 414
        }
      },
      "source": [
        "# Metodo del Codo\n",
        "# \n",
        "# Convertir la matriz_incidencia generada en una matriz para ser usada con numpy\n",
        "print(data_metodos)\n",
        "\n",
        "distortions = []\n",
        "\n",
        "data=data_metodos\n",
        "K = range(1,10)\n",
        "for k in K:\n",
        "    kmeanModel = KMeans(n_clusters=k).fit(data)\n",
        "    kmeanModel.fit(data)\n",
        "    distortions.append(sum(np.min(cdist(data, kmeanModel.cluster_centers_, 'euclidean'), axis=1)) / data.shape[0])\n",
        "\n",
        "# Plot del metodo del codo\n",
        "\n",
        "plt.plot(K, distortions, 'bx-')\n",
        "plt.xlabel('K')\n",
        "plt.ylabel('Distorcion')\n",
        "plt.title('Metodo del Codo mostrando el K optimo')\n",
        "plt.show()"
      ],
      "execution_count": 89,
      "outputs": [
        {
          "output_type": "stream",
          "text": [
            "[['0' '0' '0' ... 1.0 '0' '0']\n",
            " ['0' '0' '0' ... '0' '0' '0']\n",
            " ['0' '0' '0' ... '0' '0' '0']\n",
            " ...\n",
            " [1.0 '0' '0' ... '0' 1.0 '0']\n",
            " ['0' '0' '0' ... '0' '0' '0']\n",
            " ['0' '0' '0' ... '0' 1.0 1.0]]\n"
          ],
          "name": "stdout"
        },
        {
          "output_type": "display_data",
          "data": {
            "image/png": "[encoded data removed]",
            "text/plain": [
              "<Figure size 432x288 with 1 Axes>"
            ]
          },
          "metadata": {
            "tags": []
          }
        }
      ]
    },
    {
      "cell_type": "code",
      "metadata": {
        "id": "Rv77PmLw7QeC",
        "colab_type": "code",
        "outputId": "21602754-0321-4100-8351-87085471c129",
        "colab": {
          "base_uri": "https://localhost:8080/",
          "height": 170
        }
      },
      "source": [
        "# Metodo de Silhouette\n",
        "# Entrega como resultado en donde el Slhouette_score optimo es 0.14092516241984757\n",
        "# para un valor de 5 clusters.\n",
        "\n",
        "range_n_clusters = [ 2, 3, 4, 5, 6, 7,8, 9, 10]\n",
        "data_sil=data_metodos\n",
        "\n",
        "for n_clusters in range_n_clusters:\n",
        "    \n",
        "    kmeans = KMeans(n_clusters=n_clusters, random_state=10) \n",
        "    cluster_labels = kmeans.fit_predict(data_sil)\n",
        "\n",
        "    # silhouette_score para n clusters\n",
        "    silhouette_avg = silhouette_score(data_sil, cluster_labels)\n",
        "    print(\"Para N clusters =\", n_clusters,\n",
        "          \" Valor Silhouette_score :\", silhouette_avg)"
      ],
      "execution_count": 88,
      "outputs": [
        {
          "output_type": "stream",
          "text": [
            "Para N clusters = 2  Valor Silhouette_score : 0.09365573283492713\n",
            "Para N clusters = 3  Valor Silhouette_score : 0.11889942863638556\n",
            "Para N clusters = 4  Valor Silhouette_score : 0.12347053919571699\n",
            "Para N clusters = 5  Valor Silhouette_score : 0.14092516241984757\n",
            "Para N clusters = 6  Valor Silhouette_score : 0.1371798939109807\n",
            "Para N clusters = 7  Valor Silhouette_score : 0.1161092456616906\n",
            "Para N clusters = 8  Valor Silhouette_score : 0.11339573832632867\n",
            "Para N clusters = 9  Valor Silhouette_score : 0.12505960527779877\n",
            "Para N clusters = 10  Valor Silhouette_score : 0.11928332134753233\n"
          ],
          "name": "stdout"
        }
      ]
    }
  ]
}