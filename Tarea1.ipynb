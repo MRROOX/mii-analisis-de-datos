{
  "nbformat": 4,
  "nbformat_minor": 0,
  "metadata": {
    "colab": {
      "name": "Tarea1.ipynb",
      "version": "0.3.2",
      "provenance": [],
      "collapsed_sections": [],
      "include_colab_link": true
    },
    "kernelspec": {
      "name": "python3",
      "display_name": "Python 3"
    }
  },
  "cells": [
    {
      "cell_type": "markdown",
      "metadata": {
        "id": "view-in-github",
        "colab_type": "text"
      },
      "source": [
        "<a href=\"https://colab.research.google.com/github/MRROOX/mii-analisis-de-datos/blob/master/Tarea1.ipynb\" target=\"_parent\"><img src=\"https://colab.research.google.com/assets/colab-badge.svg\" alt=\"Open In Colab\"/></a>"
      ]
    },
    {
      "cell_type": "markdown",
      "metadata": {
        "id": "9Sr1wodDUG5l",
        "colab_type": "text"
      },
      "source": [
        "# Tarea 1 - Clustering Módulo Análisis de Datos, EMI2016-1, 1° Semestre 2019\n",
        "\n",
        "**Alumno: Felipe Quezada Gajardo** \n",
        "\n",
        "**Instrucciones**\n",
        "\n",
        "* (i) Construir una matriz de incidencia entre clientes y ofertas. Los datos serı́an los clientes que se caracterizan por un vector de dimensión 32 y componentes binarias.\n",
        "* (ii) Correr el algoritmo kmeans para encontrar los clusters. Para ello se puede utilizar en Python el objeto KMeans de sklearn.clusters.\n",
        "* (iii) Caracterizar los clusters de clientes resultantes en base a las caracterı́sticas de las ofertas más utilizadas en cada cluster.\n",
        "* (iv) Identificar el número más adecuado de clusters utilizando el método del codo, y el de silhouette (objeto silhouette score de sklearn.metrics)."
      ]
    },
    {
      "cell_type": "code",
      "metadata": {
        "id": "Zy4IXOsTURSy",
        "colab_type": "code",
        "colab": {}
      },
      "source": [
        "# Import de dependencias\n",
        "import pandas as pd\n",
        "import numpy as np\n",
        "from sklearn.cluster import KMeans\n",
        "from sklearn.metrics import silhouette_samples, silhouette_score\n",
        "from scipy.spatial.distance import cdist\n",
        "import matplotlib.pyplot as plt\n",
        "from sklearn.decomposition import PCA\n"
      ],
      "execution_count": 0,
      "outputs": []
    },
    {
      "cell_type": "code",
      "metadata": {
        "id": "_3JPIaKn1Sw-",
        "colab_type": "code",
        "outputId": "565d37c6-60ae-4d5c-efd3-2f676ff34b08",
        "colab": {
          "resources": {
            "http://localhost:8080/nbextensions/google.colab/files.js": {
              "data": "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",
              "ok": true,
              "headers": [
                [
                  "content-type",
                  "application/javascript"
                ]
              ],
              "status": 200,
              "status_text": ""
            }
          },
          "base_uri": "https://localhost:8080/",
          "height": 74
        }
      },
      "source": [
        "# Para subir el archivo a Collabs \n",
        "# Se debe cargar el Archivo Wine_Transactions.xlsx desde nuestro PC.\n",
        "from google.colab import files\n",
        "uploaded = files.upload()"
      ],
      "execution_count": 2,
      "outputs": [
        {
          "output_type": "display_data",
          "data": {
            "text/html": [
              "\n",
              "     <input type=\"file\" id=\"files-6e905d03-e636-42fc-adcd-770ce0695ffa\" name=\"files[]\" multiple disabled />\n",
              "     <output id=\"result-6e905d03-e636-42fc-adcd-770ce0695ffa\">\n",
              "      Upload widget is only available when the cell has been executed in the\n",
              "      current browser session. Please rerun this cell to enable.\n",
              "      </output>\n",
              "      <script src=\"/nbextensions/google.colab/files.js\"></script> "
            ],
            "text/plain": [
              "<IPython.core.display.HTML object>"
            ]
          },
          "metadata": {
            "tags": []
          }
        },
        {
          "output_type": "stream",
          "text": [
            "Saving Wine_Transactions.xlsx to Wine_Transactions.xlsx\n"
          ],
          "name": "stdout"
        }
      ]
    },
    {
      "cell_type": "code",
      "metadata": {
        "id": "FBfNoI7tUmBv",
        "colab_type": "code",
        "colab": {}
      },
      "source": [
        "# Cargamos el archivo .xlsx a una Variable\n",
        "import io\n",
        "wine_transactions = pd.ExcelFile(io.BytesIO(uploaded['Wine_Transactions.xlsx']))\n",
        "#print(wine_transactions)\n",
        "\n",
        "\n",
        "# Se lée la hoja de OfferInformation\n",
        "OfferInformation = pd.read_excel(wine_transactions, sheet_name=0)\n",
        "#print(OfferInformation)\n",
        "\n",
        "\n",
        "# Se lée la hoja de Transactions\n",
        "Transactions = pd.read_excel(wine_transactions, sheet_name=1)\n",
        "Transactions['cont']=1\n",
        "#print(Transactions)\n",
        "\n",
        "# Se unen las dos hojas para que sea mas facil trabajar con los datos.\n",
        "datos_entrada = pd.merge(OfferInformation, Transactions)\n",
        "print(datos_entrada)\n"
      ],
      "execution_count": 0,
      "outputs": []
    },
    {
      "cell_type": "code",
      "metadata": {
        "id": "yibnJVR95eOi",
        "colab_type": "code",
        "outputId": "bef20bde-b0b7-4a8b-8759-dc8f166dd81f",
        "colab": {
          "base_uri": "https://localhost:8080/",
          "height": 1000
        }
      },
      "source": [
        "# Se construye la matriz de incidencia entre clientes y ofertas del punto i, se utiliza\n",
        "# la funcion pivot_table\n",
        "# Se obtienen los datos de Ofertas \"Offer #\" y los Consumidores \"Customer Last Name\"\n",
        "\n",
        "matriz_incidencia = datos_entrada.pivot_table(index=['Customer Last Name'], columns=['Offer #'], values='cont')\n",
        "\n",
        "matriz_incidencia = matriz_incidencia.fillna(0).reset_index()\n",
        "\n",
        "# Matriz de Incidencia\n",
        "#print('Matriz de Incidencia')\n",
        "#print(matriz_invidencia)\n",
        "matriz_resultado = matriz_incidencia\n",
        "\n",
        "\n",
        "#Preparacion matriz de incidencia para usar en metodo del CODO y SILHOUETTE\n",
        "matriz_pivot = pd.pivot_table(Transactions, index=[\"Offer #\"], columns=[\"Customer Last Name\"], aggfunc=len, fill_value='0')\n",
        "\n",
        "# Convertir la matriz generada en una matriz para ser usada con numpy\n",
        "\n",
        "X = matriz_pivot.as_matrix()\n",
        "X = np.matrix(X)\n",
        "data_metodos = X.T\n",
        "#print('Matriz Solo de Datos para Metodo del Codo y Silhouette')\n",
        "#print(data_metodos)\n",
        "\n",
        "\n",
        "# Se guarda la lista de los costumer en un arreglo separado para ser utilizados despues.\n",
        "costumer_col = matriz_incidencia.columns[1:]\n",
        "\n",
        "#print(costumer_col)\n",
        "\n",
        "# Aplicacion de el algoritmo de Kmeans del punto ii considerando 5 cluster optimos sugeridos\n",
        "# por el metodo de Silhouette expuesto al final.\n",
        "#print(matriz_incidencia[matriz_incidencia.columns[1:]])\n",
        "\n",
        "#matriz_resultado['Cluster'] = KMeans(n_clusters=5).fit_predict(matriz_incidencia[matriz_incidencia.columns[1:]])\n",
        "matriz_resultado['Cluster'] = KMeans(n_clusters=5).fit_predict(data_metodos)\n",
        "\n",
        "\n",
        "#print('Matriz de Resultados en donde se Muestra los Costumer con sus Cluster respectivo')\n",
        "print(matriz_resultado)\n"
      ],
      "execution_count": 185,
      "outputs": [
        {
          "output_type": "stream",
          "text": [
            "Offer # Customer Last Name    1    2    3    4  ...   29   30   31   32  Cluster\n",
            "0                    Adams  0.0  0.0  0.0  0.0  ...  1.0  1.0  0.0  0.0        3\n",
            "1                    Allen  0.0  0.0  0.0  0.0  ...  0.0  0.0  0.0  0.0        1\n",
            "2                 Anderson  0.0  0.0  0.0  0.0  ...  0.0  0.0  0.0  0.0        4\n",
            "3                   Bailey  0.0  0.0  0.0  0.0  ...  0.0  1.0  0.0  0.0        3\n",
            "4                    Baker  0.0  0.0  0.0  0.0  ...  0.0  0.0  1.0  0.0        2\n",
            "5                   Barnes  0.0  0.0  0.0  0.0  ...  0.0  0.0  1.0  0.0        2\n",
            "6                     Bell  0.0  1.0  0.0  0.0  ...  0.0  0.0  0.0  0.0        4\n",
            "7                  Bennett  0.0  0.0  0.0  0.0  ...  1.0  0.0  0.0  0.0        0\n",
            "8                   Brooks  0.0  0.0  1.0  0.0  ...  0.0  0.0  0.0  0.0        0\n",
            "9                    Brown  0.0  0.0  0.0  0.0  ...  1.0  1.0  0.0  0.0        3\n",
            "10                  Butler  1.0  0.0  0.0  1.0  ...  0.0  1.0  0.0  0.0        1\n",
            "11                Campbell  0.0  1.0  0.0  0.0  ...  0.0  0.0  0.0  0.0        4\n",
            "12                  Carter  0.0  0.0  0.0  0.0  ...  1.0  1.0  0.0  0.0        3\n",
            "13                   Clark  0.0  0.0  0.0  1.0  ...  0.0  0.0  1.0  0.0        2\n",
            "14                 Collins  0.0  0.0  0.0  0.0  ...  0.0  1.0  0.0  0.0        0\n",
            "15                    Cook  0.0  0.0  0.0  0.0  ...  0.0  0.0  0.0  0.0        4\n",
            "16                  Cooper  0.0  0.0  0.0  1.0  ...  0.0  0.0  0.0  1.0        0\n",
            "17                     Cox  0.0  1.0  0.0  0.0  ...  0.0  0.0  0.0  0.0        4\n",
            "18                    Cruz  0.0  0.0  0.0  0.0  ...  1.0  1.0  0.0  0.0        3\n",
            "19                   Davis  0.0  0.0  0.0  0.0  ...  0.0  0.0  0.0  0.0        0\n",
            "20                    Diaz  0.0  0.0  0.0  0.0  ...  1.0  1.0  0.0  0.0        3\n",
            "21                 Edwards  0.0  0.0  0.0  0.0  ...  0.0  0.0  0.0  0.0        0\n",
            "22                   Evans  0.0  0.0  0.0  0.0  ...  0.0  0.0  0.0  0.0        1\n",
            "23                  Fisher  1.0  1.0  0.0  0.0  ...  0.0  1.0  1.0  0.0        2\n",
            "24                  Flores  0.0  0.0  0.0  0.0  ...  0.0  0.0  0.0  0.0        4\n",
            "25                  Foster  1.0  0.0  0.0  0.0  ...  0.0  0.0  0.0  0.0        1\n",
            "26                  Garcia  0.0  0.0  0.0  0.0  ...  0.0  0.0  0.0  0.0        0\n",
            "27                   Gomez  0.0  0.0  0.0  0.0  ...  0.0  0.0  0.0  1.0        0\n",
            "28                Gonzalez  0.0  0.0  0.0  0.0  ...  0.0  0.0  1.0  0.0        2\n",
            "29                    Gray  0.0  0.0  0.0  0.0  ...  0.0  0.0  0.0  0.0        0\n",
            "..                     ...  ...  ...  ...  ...  ...  ...  ...  ...  ...      ...\n",
            "70                    Reed  0.0  0.0  0.0  0.0  ...  0.0  0.0  0.0  0.0        0\n",
            "71                   Reyes  0.0  0.0  0.0  0.0  ...  0.0  0.0  0.0  0.0        0\n",
            "72              Richardson  0.0  0.0  1.0  0.0  ...  0.0  0.0  0.0  0.0        1\n",
            "73                  Rivera  0.0  0.0  0.0  0.0  ...  0.0  0.0  0.0  0.0        3\n",
            "74                 Roberts  0.0  0.0  0.0  0.0  ...  0.0  0.0  1.0  0.0        2\n",
            "75                Robinson  0.0  0.0  0.0  0.0  ...  1.0  0.0  0.0  0.0        3\n",
            "76               Rodriguez  0.0  1.0  0.0  0.0  ...  0.0  0.0  0.0  0.0        4\n",
            "77                  Rogers  0.0  0.0  1.0  0.0  ...  0.0  0.0  0.0  0.0        0\n",
            "78                    Ross  0.0  0.0  0.0  0.0  ...  0.0  0.0  0.0  0.0        0\n",
            "79                 Russell  0.0  0.0  0.0  0.0  ...  0.0  0.0  0.0  0.0        0\n",
            "80                 Sanchez  0.0  0.0  0.0  1.0  ...  0.0  0.0  0.0  0.0        1\n",
            "81                 Sanders  1.0  0.0  0.0  1.0  ...  0.0  0.0  0.0  0.0        1\n",
            "82                   Scott  0.0  0.0  0.0  0.0  ...  0.0  0.0  0.0  0.0        0\n",
            "83                   Smith  0.0  1.0  0.0  0.0  ...  0.0  0.0  0.0  0.0        4\n",
            "84                 Stewart  0.0  0.0  0.0  0.0  ...  1.0  1.0  0.0  0.0        3\n",
            "85                Sullivan  0.0  0.0  0.0  0.0  ...  0.0  0.0  0.0  0.0        0\n",
            "86                  Taylor  0.0  0.0  0.0  0.0  ...  1.0  1.0  0.0  0.0        3\n",
            "87                  Thomas  1.0  0.0  0.0  1.0  ...  0.0  0.0  0.0  0.0        1\n",
            "88                Thompson  0.0  0.0  0.0  0.0  ...  0.0  1.0  0.0  0.0        0\n",
            "89                  Torres  0.0  0.0  0.0  0.0  ...  0.0  0.0  0.0  0.0        0\n",
            "90                  Turner  0.0  0.0  0.0  1.0  ...  0.0  0.0  1.0  0.0        1\n",
            "91                  Walker  0.0  0.0  0.0  0.0  ...  1.0  0.0  0.0  0.0        3\n",
            "92                    Ward  0.0  0.0  0.0  1.0  ...  0.0  0.0  0.0  0.0        0\n",
            "93                  Watson  0.0  0.0  0.0  0.0  ...  1.0  0.0  0.0  0.0        3\n",
            "94                   White  0.0  0.0  0.0  0.0  ...  0.0  1.0  0.0  0.0        0\n",
            "95                Williams  0.0  0.0  0.0  0.0  ...  0.0  0.0  1.0  0.0        2\n",
            "96                  Wilson  0.0  0.0  0.0  0.0  ...  0.0  1.0  0.0  0.0        0\n",
            "97                    Wood  1.0  0.0  0.0  0.0  ...  0.0  0.0  1.0  0.0        2\n",
            "98                  Wright  0.0  0.0  0.0  1.0  ...  0.0  0.0  0.0  0.0        1\n",
            "99                   Young  0.0  0.0  0.0  0.0  ...  0.0  0.0  1.0  1.0        2\n",
            "\n",
            "[100 rows x 34 columns]\n"
          ],
          "name": "stdout"
        },
        {
          "output_type": "stream",
          "text": [
            "/usr/local/lib/python3.6/dist-packages/ipykernel_launcher.py:17: FutureWarning: Method .as_matrix will be removed in a future version. Use .values instead.\n"
          ],
          "name": "stderr"
        }
      ]
    },
    {
      "cell_type": "code",
      "metadata": {
        "id": "notfUUPE5Sq8",
        "colab_type": "code",
        "colab": {}
      },
      "source": [
        "#(iii) Caracterizar los clusters de clientes resultantes en base a las caracterı́sticas de \n",
        "#las ofertas más utilizadas en cada cluster.\n",
        "pca = PCA(n_components=2)\n",
        "\n",
        "matriz_resultado['A'] = pca.fit_transform(matriz_resultado[costumer_col])[:,0]\n",
        "matriz_resultado['B'] = pca.fit_transform(matriz_resultado[costumer_col])[:,1]\n",
        "\n",
        "matriz_resultado = matriz_resultado.reset_index()\n",
        "\n",
        "#print(matriz_resultado)\n",
        "\n",
        "costumer_cluster = matriz_resultado[['Customer Last Name', 'Cluster', 'A','B']]\n",
        "print(costumer_cluster)\n",
        "\n",
        "# Se unen los datos para realizar caracterizacion\n",
        "caracterizacion = pd.merge(Transactions,costumer_cluster)\n",
        "caracterizacion = pd.merge(OfferInformation, caracterizacion)\n",
        "\n",
        "#print(caracterizacion)"
      ],
      "execution_count": 0,
      "outputs": []
    },
    {
      "cell_type": "code",
      "metadata": {
        "id": "RZBzvHOs05ge",
        "colab_type": "code",
        "colab": {
          "base_uri": "https://localhost:8080/",
          "height": 1000
        },
        "outputId": "ba78a689-71a7-4fb5-eea5-1b692cbf352e"
      },
      "source": [
        "# Caracterizacion por Variedad (Varietal) por cada Cluster (0-1-2-3-4)\n",
        "#Observaciones:\n",
        "# Al apreciar los resultados de acuerdo a la Variedad se puede observar que \n",
        "# la variedad mas Consumida es el Champagne, seguido a continuación por el \n",
        "# Pinot Noir y luego los Espumantes.\n",
        "#\n",
        "#\n",
        "caracterizacion['Varietal_Cluster_0'] = caracterizacion.Cluster == 0\n",
        "print(caracterizacion.groupby(\"Varietal_Cluster_0\").Varietal.value_counts())\n",
        "\n",
        "caracterizacion['Varietal_Cluster_1'] = caracterizacion.Cluster == 1\n",
        "print(caracterizacion.groupby(\"Varietal_Cluster_1\").Varietal.value_counts())\n",
        "\n",
        "caracterizacion['Varietal_Cluster_2'] = caracterizacion.Cluster == 2\n",
        "print(caracterizacion.groupby(\"Varietal_Cluster_2\").Varietal.value_counts())\n",
        "\n",
        "caracterizacion['Varietal_Cluster_3'] = caracterizacion.Cluster == 3\n",
        "print(caracterizacion.groupby(\"Varietal_Cluster_3\").Varietal.value_counts())\n",
        "\n",
        "caracterizacion['Varietal_Cluster_4'] = caracterizacion.Cluster == 4\n",
        "print(caracterizacion.groupby(\"Varietal_Cluster_4\").Varietal.value_counts())\n"
      ],
      "execution_count": 198,
      "outputs": [
        {
          "output_type": "stream",
          "text": [
            "Varietal_Cluster_0  Varietal          \n",
            "False               Champagne             65\n",
            "                    Pinot Noir            40\n",
            "                    Prosecco              31\n",
            "                    Malbec                27\n",
            "                    Espumante             21\n",
            "                    Cabernet Sauvignon    17\n",
            "                    Pinot Grigio          14\n",
            "                    Merlot                12\n",
            "                    Chardonnay            10\n",
            "True                Espumante             19\n",
            "                    Champagne             16\n",
            "                    Cabernet Sauvignon    15\n",
            "                    Prosecco              12\n",
            "                    Merlot                 8\n",
            "                    Chardonnay             5\n",
            "                    Malbec                 5\n",
            "                    Pinot Noir             4\n",
            "                    Pinot Grigio           3\n",
            "Name: Varietal, dtype: int64\n",
            "Varietal_Cluster_1  Varietal          \n",
            "False               Champagne             46\n",
            "                    Espumante             38\n",
            "                    Pinot Noir            38\n",
            "                    Prosecco              34\n",
            "                    Malbec                25\n",
            "                    Cabernet Sauvignon    23\n",
            "                    Pinot Grigio          17\n",
            "                    Merlot                16\n",
            "                    Chardonnay             8\n",
            "True                Champagne             35\n",
            "                    Cabernet Sauvignon     9\n",
            "                    Prosecco               9\n",
            "                    Chardonnay             7\n",
            "                    Malbec                 7\n",
            "                    Pinot Noir             6\n",
            "                    Merlot                 4\n",
            "                    Espumante              2\n",
            "Name: Varietal, dtype: int64\n",
            "Varietal_Cluster_2  Varietal          \n",
            "False               Champagne             51\n",
            "                    Pinot Noir            43\n",
            "                    Espumante             38\n",
            "                    Prosecco              33\n",
            "                    Malbec                27\n",
            "                    Cabernet Sauvignon    24\n",
            "                    Merlot                17\n",
            "                    Pinot Grigio          16\n",
            "                    Chardonnay            12\n",
            "True                Champagne             30\n",
            "                    Prosecco              10\n",
            "                    Cabernet Sauvignon     8\n",
            "                    Malbec                 5\n",
            "                    Chardonnay             3\n",
            "                    Merlot                 3\n",
            "                    Espumante              2\n",
            "                    Pinot Grigio           1\n",
            "                    Pinot Noir             1\n",
            "Name: Varietal, dtype: int64\n",
            "Varietal_Cluster_3  Varietal          \n",
            "False               Champagne             81\n",
            "                    Pinot Noir            44\n",
            "                    Cabernet Sauvignon    32\n",
            "                    Prosecco              31\n",
            "                    Espumante             23\n",
            "                    Malbec                17\n",
            "                    Chardonnay            15\n",
            "                    Merlot                15\n",
            "                    Pinot Grigio           4\n",
            "True                Espumante             17\n",
            "                    Malbec                15\n",
            "                    Pinot Grigio          13\n",
            "                    Prosecco              12\n",
            "                    Merlot                 5\n",
            "Name: Varietal, dtype: int64\n",
            "Varietal_Cluster_4  Varietal          \n",
            "False               Champagne             81\n",
            "                    Prosecco              43\n",
            "                    Espumante             40\n",
            "                    Cabernet Sauvignon    32\n",
            "                    Malbec                32\n",
            "                    Merlot                20\n",
            "                    Pinot Grigio          17\n",
            "                    Chardonnay            15\n",
            "                    Pinot Noir            11\n",
            "True                Pinot Noir            33\n",
            "Name: Varietal, dtype: int64\n"
          ],
          "name": "stdout"
        }
      ]
    },
    {
      "cell_type": "code",
      "metadata": {
        "id": "0TkTUfR8AS8N",
        "colab_type": "code",
        "colab": {
          "base_uri": "https://localhost:8080/",
          "height": 1000
        },
        "outputId": "824e6c86-ff2e-4aa3-b526-efb03240fc19"
      },
      "source": [
        "# Caracterizacion por Campaña (Campaing) por cada Cluster (0-1-2-3-4)\n",
        "# Observaciones:\n",
        "# Se puede observar que las campañas durante los meses de Diciembre - Marzo - Agosto\n",
        "# en los 5 cluster poseen la mayor cantidad de consumidores.\n",
        "#\n",
        "# Se podria llegar a inferir de acuerdo a los datos por Campaña y Variedad \n",
        "# que entos periodos de tiempo Diciembre - Marzo - Agosto se consume mayor cantidad de Champagne, Pinot Noir y Espumantes.\n",
        "# ya coincide con fechas de celebracion importante de la poblacion estudiada.\n",
        "#\n",
        "caracterizacion['Campaign_Cluster_0'] = caracterizacion.Cluster==0\n",
        "print(caracterizacion.groupby(\"Campaign_Cluster_0\").Campaign.value_counts())\n",
        "\n",
        "caracterizacion['Campaign_Cluster_1'] = caracterizacion.Cluster==1\n",
        "print(caracterizacion.groupby(\"Campaign_Cluster_1\").Campaign.value_counts())\n",
        "\n",
        "caracterizacion['Campaign_Cluster_2'] = caracterizacion.Cluster==2\n",
        "print(caracterizacion.groupby(\"Campaign_Cluster_2\").Campaign.value_counts())\n",
        "\n",
        "caracterizacion['Campaign_Cluster_3'] = caracterizacion.Cluster==3\n",
        "print(caracterizacion.groupby(\"Campaign_Cluster_3\").Campaign.value_counts())\n",
        "\n",
        "caracterizacion['Campaign_Cluster_4'] = caracterizacion.Cluster==4\n",
        "print(caracterizacion.groupby(\"Campaign_Cluster_4\").Campaign.value_counts())"
      ],
      "execution_count": 195,
      "outputs": [
        {
          "output_type": "stream",
          "text": [
            "Campaign_Cluster_0  Campaign \n",
            "False               December     36\n",
            "                    March        33\n",
            "                    August       23\n",
            "                    July         22\n",
            "                    October      22\n",
            "                    January      17\n",
            "                    November     17\n",
            "                    May          15\n",
            "                    September    15\n",
            "                    February     13\n",
            "                    April        12\n",
            "                    June         12\n",
            "True                March        18\n",
            "                    February      9\n",
            "                    May           9\n",
            "                    August        8\n",
            "                    June          8\n",
            "                    October       8\n",
            "                    December      7\n",
            "                    November      6\n",
            "                    April         5\n",
            "                    July          4\n",
            "                    January       3\n",
            "                    September     2\n",
            "Name: Campaign, dtype: int64\n",
            "Campaign_Cluster_1  Campaign \n",
            "False               March        44\n",
            "                    December     41\n",
            "                    July         25\n",
            "                    November     22\n",
            "                    August       18\n",
            "                    May          17\n",
            "                    October      17\n",
            "                    September    15\n",
            "                    June         13\n",
            "                    January      12\n",
            "                    April        11\n",
            "                    February     10\n",
            "True                August       13\n",
            "                    October      13\n",
            "                    February     12\n",
            "                    January       8\n",
            "                    June          7\n",
            "                    March         7\n",
            "                    May           7\n",
            "                    April         6\n",
            "                    December      2\n",
            "                    September     2\n",
            "                    July          1\n",
            "                    November      1\n",
            "Name: Campaign, dtype: int64\n",
            "Campaign_Cluster_2  Campaign \n",
            "False               March        44\n",
            "                    October      30\n",
            "                    December     24\n",
            "                    July         22\n",
            "                    August       21\n",
            "                    February     21\n",
            "                    May          21\n",
            "                    November     20\n",
            "                    January      16\n",
            "                    September    16\n",
            "                    June         15\n",
            "                    April        11\n",
            "True                December     19\n",
            "                    August       10\n",
            "                    March         7\n",
            "                    April         6\n",
            "                    June          5\n",
            "                    January       4\n",
            "                    July          4\n",
            "                    May           3\n",
            "                    November      3\n",
            "                    February      1\n",
            "                    September     1\n",
            "Name: Campaign, dtype: int64\n",
            "Campaign_Cluster_3  Campaign \n",
            "False               March        32\n",
            "                    August       31\n",
            "                    October      30\n",
            "                    December     28\n",
            "                    February     22\n",
            "                    January      20\n",
            "                    June         20\n",
            "                    May          19\n",
            "                    April        17\n",
            "                    September    17\n",
            "                    July         16\n",
            "                    November     10\n",
            "True                March        19\n",
            "                    December     15\n",
            "                    November     13\n",
            "                    July         10\n",
            "                    May           5\n",
            "Name: Campaign, dtype: int64\n",
            "Campaign_Cluster_4  Campaign \n",
            "False               March        51\n",
            "                    December     43\n",
            "                    August       31\n",
            "                    May          24\n",
            "                    November     23\n",
            "                    February     22\n",
            "                    October      21\n",
            "                    June         20\n",
            "                    July         19\n",
            "                    April        17\n",
            "                    January      15\n",
            "                    September     5\n",
            "True                September    12\n",
            "                    October       9\n",
            "                    July          7\n",
            "                    January       5\n",
            "Name: Campaign, dtype: int64\n"
          ],
          "name": "stdout"
        }
      ]
    },
    {
      "cell_type": "code",
      "metadata": {
        "id": "S6ktEVnu73GZ",
        "colab_type": "code",
        "outputId": "56d3522a-107c-4fcb-fdea-469b15747e16",
        "colab": {
          "base_uri": "https://localhost:8080/",
          "height": 414
        }
      },
      "source": [
        "# Metodo del Codo\n",
        "# \n",
        "# Convertir la matriz_incidencia generada en una matriz para ser usada con numpy\n",
        "print(data_metodos)\n",
        "\n",
        "distortions = []\n",
        "\n",
        "data=data_metodos\n",
        "K = range(1,10)\n",
        "for k in K:\n",
        "    kmeanModel = KMeans(n_clusters=k).fit(data)\n",
        "    kmeanModel.fit(data)\n",
        "    distortions.append(sum(np.min(cdist(data, kmeanModel.cluster_centers_, 'euclidean'), axis=1)) / data.shape[0])\n",
        "\n",
        "# Plot del metodo del codo\n",
        "\n",
        "plt.plot(K, distortions, 'bx-')\n",
        "plt.xlabel('K')\n",
        "plt.ylabel('Distorcion')\n",
        "plt.title('Metodo del Codo mostrando el K optimo')\n",
        "plt.show()"
      ],
      "execution_count": 196,
      "outputs": [
        {
          "output_type": "stream",
          "text": [
            "[['0' '0' '0' ... 1.0 '0' '0']\n",
            " ['0' '0' '0' ... '0' '0' '0']\n",
            " ['0' '0' '0' ... '0' '0' '0']\n",
            " ...\n",
            " [1.0 '0' '0' ... '0' 1.0 '0']\n",
            " ['0' '0' '0' ... '0' '0' '0']\n",
            " ['0' '0' '0' ... '0' 1.0 1.0]]\n"
          ],
          "name": "stdout"
        },
        {
          "output_type": "display_data",
          "data": {
            "image/png": "[encoded data removed]",
            "text/plain": [
              "<Figure size 432x288 with 1 Axes>"
            ]
          },
          "metadata": {
            "tags": []
          }
        }
      ]
    },
    {
      "cell_type": "code",
      "metadata": {
        "id": "Rv77PmLw7QeC",
        "colab_type": "code",
        "outputId": "075b12b8-707e-4111-ff71-a8d61a24d20d",
        "colab": {
          "base_uri": "https://localhost:8080/",
          "height": 170
        }
      },
      "source": [
        "# Metodo de Silhouette\n",
        "# Entrega como resultado en donde el Slhouette_score optimo es 0.14092516241984757\n",
        "# para un valor de 5 clusters.\n",
        "\n",
        "range_n_clusters = [ 2, 3, 4, 5, 6, 7,8, 9, 10]\n",
        "data_sil=data_metodos\n",
        "\n",
        "for n_clusters in range_n_clusters:\n",
        "    \n",
        "    kmeans = KMeans(n_clusters=n_clusters, random_state=10) \n",
        "    cluster_labels = kmeans.fit_predict(data_sil)\n",
        "\n",
        "    # silhouette_score para n clusters\n",
        "    silhouette_avg = silhouette_score(data_sil, cluster_labels)\n",
        "    print(\"Para N clusters =\", n_clusters,\n",
        "          \" Valor Silhouette_score :\", silhouette_avg)"
      ],
      "execution_count": 197,
      "outputs": [
        {
          "output_type": "stream",
          "text": [
            "Para N clusters = 2  Valor Silhouette_score : 0.09365573283492713\n",
            "Para N clusters = 3  Valor Silhouette_score : 0.11889942863638556\n",
            "Para N clusters = 4  Valor Silhouette_score : 0.12347053919571699\n",
            "Para N clusters = 5  Valor Silhouette_score : 0.14092516241984757\n",
            "Para N clusters = 6  Valor Silhouette_score : 0.1371798939109807\n",
            "Para N clusters = 7  Valor Silhouette_score : 0.1161092456616906\n",
            "Para N clusters = 8  Valor Silhouette_score : 0.11339573832632867\n",
            "Para N clusters = 9  Valor Silhouette_score : 0.12505960527779877\n",
            "Para N clusters = 10  Valor Silhouette_score : 0.11928332134753233\n"
          ],
          "name": "stdout"
        }
      ]
    }
  ]
}